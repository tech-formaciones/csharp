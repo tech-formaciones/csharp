{
 "cells": [
  {
   "cell_type": "code",
   "execution_count": 5,
   "metadata": {
    "dotnet_interactive": {
     "language": "csharp"
    },
    "polyglot_notebook": {
     "kernelName": "csharp"
    },
    "vscode": {
     "languageId": "polyglot-notebook"
    }
   },
   "outputs": [
    {
     "name": "stdout",
     "output_type": "stream",
     "text": [
      "hola no se puede convertir o no es un número.\r\n"
     ]
    }
   ],
   "source": [
    "using Microsoft.DotNet.Interactive;\n",
    "\n",
    "// Console.WriteLine($\"Introduce un número: \");\n",
    "// string respuesta = Console.ReadLine();\n",
    "\n",
    "string respuesta = await Kernel.GetInputAsync(\"Introduce un número: \");\n",
    "\n",
    "\n",
    "int numero = 0;\n",
    "if(int.TryParse(respuesta, out numero) == true)\n",
    "{ \n",
    "    Console.WriteLine($\"El número introducido es {numero}.\");\n",
    "}\n",
    "else\n",
    "{ \n",
    "    Console.WriteLine($\"{respuesta} no se puede convertir o no es un número.\");\n",
    "}"
   ]
  }
 ],
 "metadata": {
  "kernelspec": {
   "display_name": ".NET (C#)",
   "language": "C#",
   "name": ".net-csharp"
  },
  "language_info": {
   "name": "python"
  },
  "polyglot_notebook": {
   "kernelInfo": {
    "defaultKernelName": "csharp",
    "items": [
     {
      "aliases": [],
      "name": "csharp"
     }
    ]
   }
  }
 },
 "nbformat": 4,
 "nbformat_minor": 2
}
